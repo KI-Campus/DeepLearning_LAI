{
 "cells": [
  {
   "cell_type": "markdown",
   "id": "f3b96351",
   "metadata": {},
   "source": [
    "# Excercise 1 - Getting Started"
   ]
  },
  {
   "cell_type": "markdown",
   "id": "fa87556a",
   "metadata": {},
   "source": [
    "This exercise will introduce you to PyTorch Tensors. If you already know how to work with them, please work through this exercise anyway to test if everything is working correctly, you should be done very quickly."
   ]
  },
  {
   "cell_type": "markdown",
   "id": "2a696898",
   "metadata": {},
   "source": [
    "## Tensors"
   ]
  },
  {
   "cell_type": "markdown",
   "id": "c7b19d9a",
   "metadata": {},
   "source": [
    "Tensors are a specialized data structure that are very similar to arrays and matrices. In PyTorch, we use tensors to encode the inputs and outputs of a model, as well as the model’s parameters.\n",
    "\n",
    "- A 0d tensor is a scalar,\n",
    "- A 1d tensor is a vector (e.g. a sound sample),\n",
    "- A 2d tensor is a matrix (e.g. a grayscale image),\n",
    "- A 3d tensor can be seen as a vector of identically sized matrix (e.g. a\n",
    "multi-channel image),\n",
    "- A 4d tensor can be seen as a matrix of identically sized matrices, or a\n",
    "sequence of 3d tensors (e.g. a sequence of multi-channel images),\n",
    "- etc\n",
    "\n",
    "There is a confusion between “dimension” for a vector in linear algebra, which is its number of coefficients, and “dimension” for a tensor, which is the number of indices to specify one of its coefficients. For instance an element of $\\mathbb{R}^3$ is a three-dimension vector, but a one-dimension tensor.\n",
    "\n",
    "Tensors are similar to NumPy’s ndarrays, except that tensors can run on GPUs or other specialized hardware to accelerate computing. Manipulating data through this constrained structure allows to use CPUs\n",
    "and GPUs at peak performance.\n",
    "\n",
    "For example, an RGB image of H rows and W columns of pixels can be encoded as a 3d tensor of size 3 × H × W, or depending on the convention H × W × 3.\n",
    "\n",
    "A series of N images can thus be encoded as a\n",
    "single tensor of size N × 3 × H × W."
   ]
  },
  {
   "cell_type": "markdown",
   "id": "83a3d6a0",
   "metadata": {},
   "source": [
    "### PyTorch’s main features are:\n",
    "- Efficient tensor operations on CPU/GPU,\n",
    "- automatic on-the-fly differentiation (autograd),\n",
    "- optimizers,\n",
    "- data I/O.\n",
    "\n",
    "**“Efficient tensor operations”** encompass both standard linear algebra and, as we will see\n",
    "later, deep-learning specific operations (convolution, pooling, etc.). A key specificity of PyTorch is the central role of **autograd** to compute derivatives of anything! (We will come back to this)"
   ]
  },
  {
   "cell_type": "code",
   "execution_count": null,
   "id": "df8949f0",
   "metadata": {},
   "outputs": [],
   "source": [
    "import torch\n",
    "import numpy as np\n",
    "torch.manual_seed(1234567) #fix the random seed (for the reproducability of your results)"
   ]
  },
  {
   "cell_type": "markdown",
   "id": "fd47341d",
   "metadata": {},
   "source": [
    "### Tensor Initialization\n",
    "Tensors can be initialized in various ways. Take a look at the following examples:"
   ]
  },
  {
   "cell_type": "markdown",
   "id": "10fc4df6",
   "metadata": {},
   "source": [
    "#### Directly from data\n",
    "\n",
    "Tensors can be created directly from data. The data type is automatically inferred."
   ]
  },
  {
   "cell_type": "code",
   "execution_count": null,
   "id": "61a12656",
   "metadata": {},
   "outputs": [],
   "source": [
    "data = [[1, 2],[3, 4]]\n",
    "x_data = torch.tensor(data)\n",
    "print(x_data)"
   ]
  },
  {
   "cell_type": "markdown",
   "id": "47924335",
   "metadata": {},
   "source": [
    "#### From a NumPy array\n",
    "\n",
    "Tensors can be created from NumPy arrays (and vice versa - see [Bridge with NumPy](https://pytorch.org/tutorials/beginner/blitz/tensor_tutorial.html#bridge-to-np-label))."
   ]
  },
  {
   "cell_type": "code",
   "execution_count": null,
   "id": "61e20741",
   "metadata": {},
   "outputs": [],
   "source": [
    "np_array = np.array(data)\n",
    "x_np = torch.from_numpy(np_array)\n",
    "print(np_array)\n",
    "print(x_np)"
   ]
  },
  {
   "cell_type": "markdown",
   "id": "21ee15ce",
   "metadata": {},
   "source": [
    "#### With pytorch\n",
    "\n",
    "There are lots of options creating tensors using `torch.*`\n",
    "\n",
    "`shape` is a tuple of tensor dimensions. In the functions below, it determines the dimensionality of the output tensor."
   ]
  },
  {
   "cell_type": "code",
   "execution_count": null,
   "id": "cb35ebf4",
   "metadata": {},
   "outputs": [],
   "source": [
    "shape = (2,3,)\n",
    "rand_tensor = torch.rand(shape)\n",
    "ones_tensor = torch.ones(shape)\n",
    "zeros_tensor = torch.zeros(shape)\n",
    "print(rand_tensor)\n",
    "print(ones_tensor)\n",
    "print(zeros_tensor)"
   ]
  },
  {
   "cell_type": "markdown",
   "id": "04065be0",
   "metadata": {},
   "source": [
    "#### From another tensor:\n",
    "\n",
    "The new tensor retains the properties (shape, datatype) of the argument tensor, unless explicitly overridden."
   ]
  },
  {
   "cell_type": "code",
   "execution_count": null,
   "id": "eca19eab",
   "metadata": {},
   "outputs": [],
   "source": [
    "x_ones = torch.ones_like(x_data) # retains the properties of x_data\n",
    "x_rand = torch.rand_like(x_data, dtype=torch.float) # overrides the datatype of x_data\n",
    "print(x_ones)\n",
    "print(x_rand)"
   ]
  },
  {
   "cell_type": "markdown",
   "id": "227055fa",
   "metadata": {},
   "source": [
    "#### Back to scalars, lists, numpy arrays:\n",
    "A 0d tensor can be converted back to a Python scalar with `.item()`. Any-dimensional tensors can be converted to lists by `.tolist()` or to NumPy arrays by `.numpy()`:"
   ]
  },
  {
   "cell_type": "code",
   "execution_count": null,
   "id": "b7ca574c",
   "metadata": {},
   "outputs": [],
   "source": [
    "print(x_rand[0,0])\n",
    "print(x_rand[0,0].item())\n",
    "print(x_rand.tolist())\n",
    "print(x_rand.numpy())"
   ]
  },
  {
   "cell_type": "markdown",
   "id": "1f1f9002",
   "metadata": {},
   "source": [
    "### Tensor Attributes\n",
    "\n",
    "Tensor attributes describe their shape, datatype, and the device on which they are stored."
   ]
  },
  {
   "cell_type": "code",
   "execution_count": null,
   "id": "322b4394",
   "metadata": {},
   "outputs": [],
   "source": [
    "tensor = torch.rand(3,4)\n",
    "print(f\"Shape of tensor: {tensor.shape}\")\n",
    "print(f\"Datatype of tensor: {tensor.dtype}\")\n",
    "print(f\"Device tensor is stored on: {tensor.device}\")"
   ]
  },
  {
   "cell_type": "markdown",
   "id": "1bd5fc6e",
   "metadata": {},
   "source": [
    "#### Datatypes\n",
    "A tensor can be of many different data types. Take a look at the official documentation: [torch.tensor](https://pytorch.org/docs/stable/tensors.html), where you will find a large table of data types. The most important ones for now are:\n",
    "- torch.float / torch.float32\n",
    "- torch.long / torch.int64\n",
    "- torch.bool\n",
    "\n",
    "and their corresponding cuda variants."
   ]
  },
  {
   "cell_type": "code",
   "execution_count": null,
   "id": "72fa8496",
   "metadata": {},
   "outputs": [],
   "source": [
    "t = torch.tensor([1,0,1,0,1])\n",
    "print(t)\n",
    "print(t.float())\n",
    "print(t.bool())"
   ]
  },
  {
   "cell_type": "markdown",
   "id": "655d129f",
   "metadata": {},
   "source": [
    "Some operations only work with specific datatypes. For example, computing the mean of a tensor cannot be executed on a int64 tensor:"
   ]
  },
  {
   "cell_type": "code",
   "execution_count": null,
   "id": "c5437581",
   "metadata": {},
   "outputs": [],
   "source": [
    "torch.tensor([1,2,3,4,5,6]).mean()"
   ]
  },
  {
   "cell_type": "markdown",
   "id": "436cd937",
   "metadata": {},
   "source": [
    "We can fix this by converting to floats:"
   ]
  },
  {
   "cell_type": "code",
   "execution_count": null,
   "id": "0395c469",
   "metadata": {},
   "outputs": [],
   "source": [
    "torch.tensor([1,2,3,4,5,6]).float().mean()"
   ]
  },
  {
   "cell_type": "markdown",
   "id": "1c541be3",
   "metadata": {},
   "source": [
    "#### Shapes\n",
    "Sometimes, a tensor does not have the shape we desire. squeeze and unsqueeze can help removing or adding dimensions:"
   ]
  },
  {
   "cell_type": "code",
   "execution_count": null,
   "id": "7ebe28ee",
   "metadata": {},
   "outputs": [],
   "source": [
    "t = torch.tensor([[1,2,3]])\n",
    "print(t.shape)\n",
    "print(t.unsqueeze(0).shape) # new dimension at location 0\n",
    "print(t.squeeze(0).shape) # remove dimension at location 0"
   ]
  },
  {
   "cell_type": "markdown",
   "id": "8a2e55bd",
   "metadata": {},
   "source": [
    "`view` or `reshape` can change the shape of a tensor:"
   ]
  },
  {
   "cell_type": "code",
   "execution_count": null,
   "id": "2733733b",
   "metadata": {},
   "outputs": [],
   "source": [
    "print(t.view((3,1)).shape) # Note that view returns a \"view on the tensor\" (that means shared underlying memory),\n",
    "print(t.reshape((3,1)).shape)          # while reshape can return a copy"
   ]
  },
  {
   "cell_type": "markdown",
   "id": "29313332",
   "metadata": {},
   "source": [
    "### Broadcasting\n",
    "**Broadcasting** auto-magically expands dimensions by replicating coefficients, when it is necessary to perform operations that are “intuitively reasonable”. For example, it allows you to add a tensor $b$ of shape (3,) to a tensor $a$ of shape (2, 3) by replicating $b$ across the first dimension of $a$:"
   ]
  },
  {
   "cell_type": "code",
   "execution_count": null,
   "id": "dbb5bd25",
   "metadata": {},
   "outputs": [],
   "source": [
    "a = torch.tensor([[1, 2, 3],\n",
    "                  [4, 5, 6]])\n",
    "b = torch.tensor([1, 2, 3])\n",
    "print(a.shape)\n",
    "print(b.shape)\n",
    "print(a + b)"
   ]
  },
  {
   "cell_type": "markdown",
   "id": "df073bbd",
   "metadata": {},
   "source": [
    "While broadcasting can simplify many operations, it can also lead to unintended behavior and thus unnoticed bugs.\n",
    "Try around with different shapes of a and b and different operations. We recommend to also at least skim read through the [documentation page of pytorch's Broadcasting semantics](https://pytorch.org/docs/stable/notes/broadcasting.html)."
   ]
  },
  {
   "cell_type": "markdown",
   "id": "5a9e6f75",
   "metadata": {},
   "source": [
    "# Exercise: Working with Tensors\n",
    "Over 100 tensor operations, including transposing, indexing, slicing, mathematical operations, linear algebra, random sampling, and more are comprehensively described in the [pytorch docs](https://pytorch.org/docs/stable/torch.html). Many of them are similar to the numpy API."
   ]
  },
  {
   "cell_type": "markdown",
   "id": "495cf9aa",
   "metadata": {},
   "source": [
    "## Simple Operations\n",
    "\n",
    "Create a Tensor $ x = \\begin{pmatrix} 1 & 2 &3 \\\\ 4 & 5 & 6 \\end{pmatrix}$ and calculate the following:"
   ]
  },
  {
   "cell_type": "code",
   "execution_count": null,
   "id": "8e3e4c75",
   "metadata": {},
   "outputs": [],
   "source": []
  },
  {
   "cell_type": "code",
   "execution_count": null,
   "id": "41d2f970",
   "metadata": {},
   "outputs": [],
   "source": [
    "x = torch.tensor([[1,2,3],\n",
    "                  [4,5,6]])"
   ]
  },
  {
   "cell_type": "markdown",
   "id": "176ed67c",
   "metadata": {},
   "source": [
    "**a)** Sum over all entries:"
   ]
  },
  {
   "cell_type": "code",
   "execution_count": null,
   "id": "508ba956",
   "metadata": {},
   "outputs": [],
   "source": []
  },
  {
   "cell_type": "code",
   "execution_count": null,
   "id": "252ddd84",
   "metadata": {},
   "outputs": [],
   "source": [
    "x.sum()"
   ]
  },
  {
   "cell_type": "markdown",
   "id": "ab1c7759",
   "metadata": {},
   "source": [
    "**b)** Sum only over dimension 1:"
   ]
  },
  {
   "cell_type": "code",
   "execution_count": null,
   "id": "b1b85e09",
   "metadata": {},
   "outputs": [],
   "source": []
  },
  {
   "cell_type": "code",
   "execution_count": null,
   "id": "2d19bdb9",
   "metadata": {},
   "outputs": [],
   "source": [
    "x.sum(dim=1)"
   ]
  },
  {
   "cell_type": "markdown",
   "id": "ec820077",
   "metadata": {},
   "source": [
    "**c)** Substract 1 from every element of $x$"
   ]
  },
  {
   "cell_type": "code",
   "execution_count": null,
   "id": "e8ecbe6b",
   "metadata": {},
   "outputs": [],
   "source": []
  },
  {
   "cell_type": "code",
   "execution_count": null,
   "id": "93e8ecf0",
   "metadata": {},
   "outputs": [],
   "source": [
    "x - 1"
   ]
  },
  {
   "cell_type": "markdown",
   "id": "837af6d7",
   "metadata": {},
   "source": [
    "**d)** Add $x$ to $x$."
   ]
  },
  {
   "cell_type": "code",
   "execution_count": null,
   "id": "5d57ba58",
   "metadata": {},
   "outputs": [],
   "source": []
  },
  {
   "cell_type": "code",
   "execution_count": null,
   "id": "63d68a72",
   "metadata": {},
   "outputs": [],
   "source": [
    "x + x"
   ]
  },
  {
   "cell_type": "markdown",
   "id": "45246c2b",
   "metadata": {},
   "source": [
    "**e)** Square $x$ elementwise:"
   ]
  },
  {
   "cell_type": "code",
   "execution_count": null,
   "id": "10155cd0",
   "metadata": {},
   "outputs": [],
   "source": []
  },
  {
   "cell_type": "code",
   "execution_count": null,
   "id": "390b5ad5",
   "metadata": {},
   "outputs": [],
   "source": [
    "x.pow(2)"
   ]
  },
  {
   "cell_type": "markdown",
   "id": "870dd1f5",
   "metadata": {},
   "source": [
    "In-place operations are suffixed with an underscore:"
   ]
  },
  {
   "cell_type": "code",
   "execution_count": null,
   "id": "442db87f",
   "metadata": {},
   "outputs": [],
   "source": [
    "x_test = torch.ones(2)\n",
    "x_test.add_(4)\n",
    "print(x_test)"
   ]
  },
  {
   "cell_type": "markdown",
   "id": "dcd9245a",
   "metadata": {},
   "source": [
    "## Indexing and Slicing\n",
    "You can apply standard NumPy indexing and Slicing to tensors."
   ]
  },
  {
   "cell_type": "code",
   "execution_count": null,
   "id": "15667169",
   "metadata": {},
   "outputs": [],
   "source": [
    "x = torch.tensor(np.arange(16)).reshape(4,4)\n",
    "print(x)"
   ]
  },
  {
   "cell_type": "markdown",
   "id": "2029c82b",
   "metadata": {},
   "source": [
    "**a)** Print element $x_{2,1}$"
   ]
  },
  {
   "cell_type": "code",
   "execution_count": null,
   "id": "569b10c6",
   "metadata": {},
   "outputs": [],
   "source": []
  },
  {
   "cell_type": "code",
   "execution_count": null,
   "id": "d30f7d1e",
   "metadata": {},
   "outputs": [],
   "source": [
    "print(x[2,1])"
   ]
  },
  {
   "cell_type": "markdown",
   "id": "60f1254d",
   "metadata": {},
   "source": [
    "**b)** Set all elements of column 1 to 0."
   ]
  },
  {
   "cell_type": "code",
   "execution_count": null,
   "id": "db2fcaa2",
   "metadata": {},
   "outputs": [],
   "source": []
  },
  {
   "cell_type": "code",
   "execution_count": null,
   "id": "4c6a6da2",
   "metadata": {},
   "outputs": [],
   "source": [
    "x[:, 1] = 0 # colon means select all from this dimension. here: all rows (dim=0), first column (dim=1)\n",
    "print(x)"
   ]
  },
  {
   "cell_type": "markdown",
   "id": "900e78c1",
   "metadata": {},
   "source": [
    "## Concatenation and Stacking of Tensors"
   ]
  },
  {
   "cell_type": "code",
   "execution_count": null,
   "id": "6842f2e1",
   "metadata": {},
   "outputs": [],
   "source": [
    "x = torch.randint(0,6, (3,3))\n",
    "print(x)"
   ]
  },
  {
   "cell_type": "markdown",
   "id": "322e4985",
   "metadata": {},
   "source": [
    "**a)** Concatenate / Stack the tensor x multiple times to create a new tensor of shape (3, 9)"
   ]
  },
  {
   "cell_type": "code",
   "execution_count": null,
   "id": "5ab7424b",
   "metadata": {},
   "outputs": [],
   "source": []
  },
  {
   "cell_type": "code",
   "execution_count": null,
   "id": "92d6322e",
   "metadata": {},
   "outputs": [],
   "source": [
    "x_1 = torch.cat([x, x, x], dim=1)\n",
    "print(x_1.shape)\n",
    "print(x_1)"
   ]
  },
  {
   "cell_type": "markdown",
   "id": "b1403ced",
   "metadata": {},
   "source": [
    "**b)** Concatenate / Stack the tensor x multiple times to create a new tensor of shape (9, 3)"
   ]
  },
  {
   "cell_type": "code",
   "execution_count": null,
   "id": "1c8d3751",
   "metadata": {},
   "outputs": [],
   "source": []
  },
  {
   "cell_type": "code",
   "execution_count": null,
   "id": "054b78f1",
   "metadata": {},
   "outputs": [],
   "source": [
    "x_2 = torch.cat([x, x, x], dim=0)\n",
    "print(x_2.shape)\n",
    "print(x_2)"
   ]
  },
  {
   "cell_type": "markdown",
   "id": "fd0be691",
   "metadata": {},
   "source": [
    "**c)** Concatenate / Stack the tensor x multiple times to create a new tensor of shape (2, 3, 3)"
   ]
  },
  {
   "cell_type": "code",
   "execution_count": null,
   "id": "e93a052f",
   "metadata": {},
   "outputs": [],
   "source": []
  },
  {
   "cell_type": "code",
   "execution_count": null,
   "id": "950bbbdb",
   "metadata": {},
   "outputs": [],
   "source": [
    "x_3 = torch.stack([x, x], dim=0)\n",
    "print(x_3.shape)\n",
    "print(x_3)"
   ]
  },
  {
   "cell_type": "markdown",
   "id": "adc2e992",
   "metadata": {},
   "source": [
    "**d)** Concatenate / Stack the tensor x multiple times to create a new tensor of shape (3, 3, 2)"
   ]
  },
  {
   "cell_type": "code",
   "execution_count": null,
   "id": "153f5e31",
   "metadata": {},
   "outputs": [],
   "source": []
  },
  {
   "cell_type": "code",
   "execution_count": null,
   "id": "f06ef4df",
   "metadata": {},
   "outputs": [],
   "source": [
    "x_4 = torch.stack([x, x], dim=-1)\n",
    "print(x_4.shape)\n",
    "print(x_4)"
   ]
  },
  {
   "cell_type": "code",
   "execution_count": null,
   "id": "fcf8ac14",
   "metadata": {},
   "outputs": [],
   "source": []
  },
  {
   "cell_type": "markdown",
   "id": "eef3497f",
   "metadata": {},
   "source": [
    "**e)** Concatenate / Stack the tensor x multiple times to create a new tensor of shape (3, 2, 3)"
   ]
  },
  {
   "cell_type": "code",
   "execution_count": null,
   "id": "e96275b7",
   "metadata": {},
   "outputs": [],
   "source": []
  },
  {
   "cell_type": "code",
   "execution_count": null,
   "id": "da1fa8ac",
   "metadata": {},
   "outputs": [],
   "source": [
    "x_5 = torch.stack([x, x], dim=1)\n",
    "print(x_5.shape)\n",
    "print(x_5)"
   ]
  },
  {
   "cell_type": "markdown",
   "id": "4b7fb7c6",
   "metadata": {},
   "source": [
    "## Multiplication of Tensors"
   ]
  },
  {
   "cell_type": "code",
   "execution_count": null,
   "id": "757cc977",
   "metadata": {},
   "outputs": [],
   "source": [
    "x = torch.randint(0, 3, (3,2))\n",
    "print(x)"
   ]
  },
  {
   "cell_type": "markdown",
   "id": "565271b8",
   "metadata": {},
   "source": [
    "**a)** Compute the elementwise product $x\\cdot x$"
   ]
  },
  {
   "cell_type": "code",
   "execution_count": null,
   "id": "8abeb915",
   "metadata": {},
   "outputs": [],
   "source": []
  },
  {
   "cell_type": "code",
   "execution_count": null,
   "id": "2fcbc1c7",
   "metadata": {},
   "outputs": [],
   "source": [
    "print(x.mul(x)) # Alternative syntax: x*x"
   ]
  },
  {
   "cell_type": "markdown",
   "id": "c64c88fe",
   "metadata": {},
   "source": [
    "**b)** Compute the matrix multiplication $x x^T$"
   ]
  },
  {
   "cell_type": "code",
   "execution_count": null,
   "id": "3c89fa57",
   "metadata": {},
   "outputs": [],
   "source": []
  },
  {
   "cell_type": "code",
   "execution_count": null,
   "id": "8d64f096",
   "metadata": {},
   "outputs": [],
   "source": [
    "print(x.matmul(x.T)) # Alternative syntax: tensor @ tensor.T"
   ]
  },
  {
   "cell_type": "markdown",
   "id": "dc2a124a",
   "metadata": {},
   "source": [
    "## Usefull functions\n",
    "The is a very large number of tensor operations available. A full list is documented [here](https://pytorch.org/docs/stable/tensors.html). Whenever you want to perform some operation, we recommend you taking a look at this documentation and search through it to find what fits your needs. Overtime, you will feel more and more comfortable and remember many operations without having to look at the docs."
   ]
  },
  {
   "cell_type": "code",
   "execution_count": null,
   "id": "697924f9",
   "metadata": {},
   "outputs": [],
   "source": [
    "x = torch.randint(-10, 11, (5,5))\n",
    "print(x)"
   ]
  },
  {
   "cell_type": "markdown",
   "id": "085c3d2a",
   "metadata": {},
   "source": [
    "Apply the sigmoid function:"
   ]
  },
  {
   "cell_type": "code",
   "execution_count": null,
   "id": "ba851a5b",
   "metadata": {},
   "outputs": [],
   "source": []
  },
  {
   "cell_type": "code",
   "execution_count": null,
   "id": "4b96e564",
   "metadata": {},
   "outputs": [],
   "source": [
    "x_s = x.sigmoid()\n",
    "print(np.round(x_s.numpy(), decimals=3))"
   ]
  },
  {
   "cell_type": "code",
   "execution_count": null,
   "id": "72c1be56",
   "metadata": {},
   "outputs": [],
   "source": []
  }
 ],
 "metadata": {
  "kernelspec": {
   "display_name": "Python 3 (ipykernel)",
   "language": "python",
   "name": "python3"
  },
  "language_info": {
   "codemirror_mode": {
    "name": "ipython",
    "version": 3
   },
   "file_extension": ".py",
   "mimetype": "text/x-python",
   "name": "python",
   "nbconvert_exporter": "python",
   "pygments_lexer": "ipython3",
   "version": "3.7.10"
  }
 },
 "nbformat": 4,
 "nbformat_minor": 5
}
